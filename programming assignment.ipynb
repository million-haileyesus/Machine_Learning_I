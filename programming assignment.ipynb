{
 "cells": [
  {
   "cell_type": "code",
   "execution_count": 1,
   "id": "d77ecfaa",
   "metadata": {},
   "outputs": [],
   "source": [
    "import os\n",
    "import numpy as np\n",
    "import cv2 as cv\n",
    "from sklearn.cluster import KMeans\n",
    "from sklearn.decomposition import PCA\n",
    "from sklearn.svm import SVC"
   ]
  },
  {
   "cell_type": "markdown",
   "id": "56c8d89d",
   "metadata": {},
   "source": [
    " "
   ]
  },
  {
   "cell_type": "markdown",
   "id": "300c4557",
   "metadata": {},
   "source": [
    "# Traditional Features Construction"
   ]
  },
  {
   "cell_type": "code",
   "execution_count": null,
   "id": "cef3473a",
   "metadata": {},
   "outputs": [],
   "source": [
    "def feature_extraction(image):\n",
    "    img = cv.imread(image)\n",
    "    gray = cv.cvtColor(img, cv.COLOR_BGR2GRAY)\n",
    "    sift = cv.SIFT_create()\n",
    "    kp, des = sift.detectAndCompute(gray, None)\n",
    "    img = cv.drawKeypoints(gray, kp, img)\n",
    "    cv.imwrite('sift_keypoints.jpg', img)"
   ]
  },
  {
   "cell_type": "code",
   "execution_count": null,
   "id": "fd001b9f",
   "metadata": {},
   "outputs": [],
   "source": [
    "def k_means_clustering(X):\n",
    "    kmeans = KMeans(n_clusters=100, random_state=0, init=\"random\", n_init=\"auto\").fit(X)\n",
    "    \n",
    "    return kmeans"
   ]
  },
  {
   "cell_type": "code",
   "execution_count": null,
   "id": "69e849ba",
   "metadata": {},
   "outputs": [],
   "source": [
    "def dimension_reduction(features):\n",
    "    pca = PCA(n_components=2)\n",
    "    transformed_data = pca.fit_transform(features)\n",
    "    \n",
    "    for i in range(4):\n",
    "        c = np.flatnonzero(class_labels == i)\n",
    "        plt.scatter(transformed_data[c, 0], transformed_data[c, 1])\n",
    "    plt.show()\n",
    "    \n",
    "    return transformed_data"
   ]
  }
 ],
 "metadata": {
  "kernelspec": {
   "display_name": "Python 3 (ipykernel)",
   "language": "python",
   "name": "python3"
  },
  "language_info": {
   "codemirror_mode": {
    "name": "ipython",
    "version": 3
   },
   "file_extension": ".py",
   "mimetype": "text/x-python",
   "name": "python",
   "nbconvert_exporter": "python",
   "pygments_lexer": "ipython3",
   "version": "3.10.9"
  }
 },
 "nbformat": 4,
 "nbformat_minor": 5
}
