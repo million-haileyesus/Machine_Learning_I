{
 "cells": [
  {
   "cell_type": "code",
   "execution_count": 1,
   "id": "d77ecfaa",
   "metadata": {},
   "outputs": [],
   "source": [
    "import os\n",
    "import numpy as np\n",
    "import cv2 as cv\n",
    "from matplotlib.pyplot as plt\n",
    "from sklearn.cluster import KMeans\n",
    "from sklearn.decomposition import PCA\n",
    "from sklearn.svm import SVC"
   ]
  },
  {
   "cell_type": "markdown",
   "id": "56c8d89d",
   "metadata": {},
   "source": [
    " "
   ]
  },
  {
   "cell_type": "markdown",
   "id": "300c4557",
   "metadata": {},
   "source": [
    "# Traditional Features Construction"
   ]
  },
  {
   "cell_type": "code",
   "execution_count": null,
   "id": "cef3473a",
   "metadata": {},
   "outputs": [],
   "source": [
    "def feature_extraction(image):\n",
    "    img = cv.imread(image)\n",
    "    gray = cv.cvtColor(img, cv.COLOR_BGR2GRAY)\n",
    "    sift = cv.SIFT_create()\n",
    "    kp, des = sift.detectAndCompute(gray, None)\n",
    "    img = cv.drawKeypoints(gray, kp, img)\n",
    "    cv.imwrite('sift_keypoints.jpg', img)"
   ]
  },
  {
   "cell_type": "code",
   "execution_count": null,
   "id": "ffe77cad",
   "metadata": {},
   "outputs": [],
   "source": []
  },
  {
   "cell_type": "code",
   "execution_count": null,
   "id": "fd001b9f",
   "metadata": {},
   "outputs": [],
   "source": [
    "def k_means_clustering(X):\n",
    "    kmeans = KMeans(n_clusters=100, random_state=0, init=\"random\", n_init=\"auto\").fit(X)\n",
    "    \n",
    "    return kmeans"
   ]
  },
  {
   "cell_type": "code",
   "execution_count": null,
   "id": "69e849ba",
   "metadata": {},
   "outputs": [],
   "source": [
    "def dimension_reduction(features):\n",
    "    pca = PCA(n_components=2)\n",
    "    transformed_data = pca.fit_transform(features)\n",
    "    \n",
    "    for i in range(4):\n",
    "        c = np.flatnonzero(class_labels == i)\n",
    "        plt.scatter(transformed_data[c, 0], transformed_data[c, 1])\n",
    "    plt.show()\n",
    "    \n",
    "    return transformed_data"
   ]
  },
  {
   "cell_type": "markdown",
   "id": "31d8e6bc",
   "metadata": {},
   "source": [
    " "
   ]
  },
  {
   "cell_type": "markdown",
   "id": "190ffb18",
   "metadata": {},
   "source": [
    "# Traditional Machine Learnign model - Support Vecotr Machine (SVM)"
   ]
  },
  {
   "cell_type": "code",
   "execution_count": null,
   "id": "3006029a",
   "metadata": {},
   "outputs": [],
   "source": [
    "def train_svm(kernel_type):\n",
    "    parameters = [0.001, 0.1, 1.0, 10, 100]\n",
    "    \n",
    "    for c in parameters:\n",
    "        svc = SVC(kernel=kernel_type, C=c, random_state=42)"
   ]
  },
  {
   "cell_type": "code",
   "execution_count": null,
   "id": "4fe09f81",
   "metadata": {},
   "outputs": [],
   "source": [
    "def plot_svm_performance():\n",
    "    plt.plot()"
   ]
  },
  {
   "cell_type": "code",
   "execution_count": null,
   "id": "7ef86c80",
   "metadata": {},
   "outputs": [],
   "source": [
    "def train_svm_for_different_kernels():\n",
    "    kernel_type = \"linear\", \"rbf\", \"poly\", \"sigmoid\"\n",
    "    train_svm(kernel_type)"
   ]
  },
  {
   "cell_type": "markdown",
   "id": "4b593f82",
   "metadata": {},
   "source": [
    " "
   ]
  },
  {
   "cell_type": "markdown",
   "id": "f9498655",
   "metadata": {},
   "source": [
    "# Deep Learning - Training a Simple Convolution Neural Network Mode"
   ]
  },
  {
   "cell_type": "code",
   "execution_count": null,
   "id": "0c93a8b2",
   "metadata": {},
   "outputs": [],
   "source": [
    "def images_classifier():\n",
    "    num_nodes = 10\n",
    "    input_shape = (100, 100, 1)\n",
    "    \n",
    "    model = keras.Sequential(\n",
    "    [\n",
    "        keras.Input(shape=input_shape), \n",
    "        layers.Conv2D(8, kernel_size=(3, 3), activation=\"relu\"), \n",
    "        layers.Conv2D(8, kernel_size=(3, 3), activation=\"relu\"), \n",
    "        layers.MaxPooling2D(pool_size=(2, 2)), \n",
    "        layers.Flatten(), \n",
    "        layers.Dense(16, activation=\"relu\"),\n",
    "        layers.Dense(16, activation=\"relu\"),\n",
    "        layers.Dense(num_nodes, activation=\"softmax\")\n",
    "    ])\n",
    "    \n",
    "    model.summary()\n",
    "    \n",
    "    return model"
   ]
  },
  {
   "cell_type": "code",
   "execution_count": null,
   "id": "bbc2f1be",
   "metadata": {},
   "outputs": [],
   "source": [
    "def train_model():\n",
    "    batch_size = 128\n",
    "    num_epochs = 30\n",
    "    model = images_classifier()\n",
    "    X_train, y_train, X_test, y_test = standardized_dataset()\n",
    "    \n",
    "    X_train = np.reshape(X_train, (X_train.shape[0], 100, 100, 1))\n",
    "    X_test = np.reshape(X_test, (X_test.shape[0], 100, 100, 1))\n",
    "    \n",
    "    y_train = to_categorical(y_train, num_classes=4)\n",
    "    y_test = to_categorical(y_test, num_classes=4)\n",
    "    \n",
    "    model.compile(loss=\"categorical_crossentropy\", optimizer=\"adam\", metrics=[\"accuracy\"])\n",
    "    history = model.fit(X_train, y_train, batch_size=batch_size, epochs=num_epochs, validation_split=0.2)\n",
    "    \n",
    "    return model, history, X_test, y_test"
   ]
  },
  {
   "cell_type": "code",
   "execution_count": null,
   "id": "f5f01d8b",
   "metadata": {},
   "outputs": [],
   "source": [
    "def model_evaluation():\n",
    "    model, history, X_test, y_test = train_model()\n",
    "    score = model.evaluate(X_test, y_test, verbose=0)\n",
    "    print(\"\\n\\nTest loss:\", score[0])\n",
    "    print(\"Test accuracy:\", score[1])\n",
    "    \n",
    "    return history"
   ]
  },
  {
   "cell_type": "code",
   "execution_count": null,
   "id": "d8b3b139",
   "metadata": {},
   "outputs": [],
   "source": [
    "model = model_evaluation()"
   ]
  }
 ],
 "metadata": {
  "kernelspec": {
   "display_name": "Python 3 (ipykernel)",
   "language": "python",
   "name": "python3"
  },
  "language_info": {
   "codemirror_mode": {
    "name": "ipython",
    "version": 3
   },
   "file_extension": ".py",
   "mimetype": "text/x-python",
   "name": "python",
   "nbconvert_exporter": "python",
   "pygments_lexer": "ipython3",
   "version": "3.10.9"
  }
 },
 "nbformat": 4,
 "nbformat_minor": 5
}
