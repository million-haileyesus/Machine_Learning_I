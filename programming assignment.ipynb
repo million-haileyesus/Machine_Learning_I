{
 "cells": [
  {
   "cell_type": "code",
   "execution_count": 2,
   "id": "d77ecfaa",
   "metadata": {},
   "outputs": [],
   "source": [
    "import glob\n",
    "import random\n",
    "import os\n",
    "import numpy as np\n",
    "import cv2 as cv\n",
    "import matplotlib.pyplot as plt\n",
    "import torch\n",
    "import torch.nn as nn\n",
    "import torchvision.models\n",
    "from sklearn.cluster import KMeans\n",
    "from sklearn.decomposition import PCA\n",
    "from sklearn.model_selection import train_test_split\n",
    "from sklearn.svm import SVC\n",
    "from tensorflow import keras\n",
    "from tensorflow.keras import layers\n",
    "from tensorflow.keras.utils import to_categorical\n",
    "from torchvision import datasets, models, transforms\n",
    "from torchvision.transforms import v2\n",
    "from torch import optim\n",
    "from torch.utils.data import Dataset, DataLoader"
   ]
  },
  {
   "cell_type": "markdown",
   "id": "56c8d89d",
   "metadata": {},
   "source": [
    " "
   ]
  },
  {
   "cell_type": "markdown",
   "id": "300c4557",
   "metadata": {},
   "source": [
    "# Traditional Features Construction"
   ]
  },
  {
   "cell_type": "code",
   "execution_count": 3,
   "id": "dcad6479",
   "metadata": {},
   "outputs": [],
   "source": [
    "def get_image():\n",
    "    path = \"../DataSet/Training/Normal\"\n",
    "    folders = os.listdir(path)\n",
    "    no_of_images = []\n",
    "    \n",
    "    for folder in folders:\n",
    "        files = [f for f in os.listdir(f\"{path}/{folder}\") if os.path.isfile(os.path.join(f\"../Resized/{folder}\", f))]\n",
    "        no_of_images.append(len(files))\n",
    "        \n",
    "    training_collection = {}\n",
    "    for folder, count in zip(folders, no_of_images):\n",
    "        all_files = os.listdir(f\"{path}/{folder}\")\n",
    "        training_collection[folder] = all_files\n",
    "        \n",
    "        \n",
    "    path = \"../DataSet/Testing/Normal\"\n",
    "    folders = os.listdir(path)\n",
    "    no_of_images = []\n",
    "    \n",
    "    for folder in folders:\n",
    "        files = [f for f in os.listdir(f\"{path}/{folder}\") if os.path.isfile(os.path.join(f\"../Resized/{folder}\", f))]\n",
    "        no_of_images.append(len(files))\n",
    "        \n",
    "    testing_collection = {}\n",
    "    for folder, count in zip(folders, no_of_images):\n",
    "        all_files = os.listdir(f\"{path}/{folder}\")\n",
    "        testing_collection[folder] = all_files\n",
    "        \n",
    "    return training_collection, testing_collection"
   ]
  },
  {
   "cell_type": "code",
   "execution_count": 4,
   "id": "7ae65a79",
   "metadata": {},
   "outputs": [],
   "source": [
    "training_image_collection, testing_image_collection = get_image()"
   ]
  },
  {
   "cell_type": "code",
   "execution_count": 5,
   "id": "cef3473a",
   "metadata": {},
   "outputs": [],
   "source": [
    "def feature_extraction(path, new_path, folder, image):\n",
    "    path = path + \"/\" + folder + \"/\" + image\n",
    "    loaded_image = cv.imread(path)\n",
    "\n",
    "    gray = cv.cvtColor(loaded_image, cv.COLOR_BGR2GRAY)\n",
    "    sift = cv.SIFT_create()\n",
    "    kp, des = sift.detectAndCompute(gray, None)\n",
    "    img = cv.drawKeypoints(gray, kp, loaded_image)\n",
    "    \n",
    "    new_path = new_path + \"/\" + folder\n",
    "    if not os.path.exists(new_path):\n",
    "        os.makedirs(new_path)\n",
    "    new_path = new_path + \"/\" + image\n",
    "    cv.imwrite(new_path, img)"
   ]
  },
  {
   "cell_type": "code",
   "execution_count": 6,
   "id": "ffe77cad",
   "metadata": {},
   "outputs": [],
   "source": [
    "def get_features(loc=\"Training\"):\n",
    "    folders = []\n",
    "    image_collections = training_image_collection\n",
    "    path = f\"../DataSet/{loc}/Normal\"\n",
    "    new_path = f\"../DataSet/{loc}/Feature Constructed\"\n",
    "\n",
    "    \n",
    "    if not os.path.exists(path):\n",
    "        os.mkdir(path)\n",
    "    if loc == \"Testing\":\n",
    "        image_collections = testing_image_collection\n",
    "        \n",
    "    for folder, images in image_collections.items():\n",
    "        for image in images:\n",
    "            folders.append(folder)\n",
    "            feature_extraction(path, new_path, folder, image)\n",
    "    \n",
    "    return folders"
   ]
  },
  {
   "cell_type": "code",
   "execution_count": 7,
   "id": "f888dc2d",
   "metadata": {},
   "outputs": [],
   "source": [
    "training_folders = get_features()"
   ]
  },
  {
   "cell_type": "code",
   "execution_count": 8,
   "id": "08dd8cf6",
   "metadata": {},
   "outputs": [],
   "source": [
    "def get_dataset(path):\n",
    "    images = glob.glob(f\"../DataSet/{path}/Feature Constructed/*/*\")\n",
    "        \n",
    "    return images"
   ]
  },
  {
   "cell_type": "code",
   "execution_count": 9,
   "id": "04f1ec38",
   "metadata": {},
   "outputs": [],
   "source": [
    "training_img = get_dataset(\"Training\")"
   ]
  },
  {
   "cell_type": "code",
   "execution_count": 10,
   "id": "48352d08",
   "metadata": {},
   "outputs": [],
   "source": [
    "def dataset_target(images, folder):\n",
    "    targets = {f: 0 for f in folder}  \n",
    "    for i, a in enumerate(images):\n",
    "        b = a.split(\"\\\\\")\n",
    "        targets[b[1]] += 1\n",
    "    \n",
    "    target_images = []\n",
    "    for i, (k, v) in enumerate(targets.items()):\n",
    "        target_images = np.concatenate((target_images, np.full(v, i)), axis = 0) \n",
    "        \n",
    "    return target_images"
   ]
  },
  {
   "cell_type": "code",
   "execution_count": 11,
   "id": "b46edeab",
   "metadata": {},
   "outputs": [],
   "source": [
    "training_images_target = dataset_target(training_img, training_folders)"
   ]
  },
  {
   "cell_type": "code",
   "execution_count": 12,
   "id": "390df017",
   "metadata": {},
   "outputs": [],
   "source": [
    "def plot_img_keypoints(img):    \n",
    "    img = plt.imread(img)\n",
    "    plt.imshow(img)"
   ]
  },
  {
   "cell_type": "code",
   "execution_count": 13,
   "id": "0a7d97a6",
   "metadata": {},
   "outputs": [
    {
     "data": {
      "image/png": "[encoded data removed]",
      "text/plain": [
       "<Figure size 640x480 with 1 Axes>"
      ]
     },
     "metadata": {},
     "output_type": "display_data"
    }
   ],
   "source": [
    "random_image = random.choices(training_img)\n",
    "plot_img_keypoints(random_image[0])"
   ]
  },
  {
   "cell_type": "code",
   "execution_count": 14,
   "id": "ea29c3f4",
   "metadata": {},
   "outputs": [],
   "source": [
    "def create_new_keypoints(image_set=training_img):\n",
    "    keypoints = []\n",
    "    \n",
    "    for image in image_set:\n",
    "        loaded_image = cv.imread(image)\n",
    "        gray = cv.cvtColor(loaded_image, cv.COLOR_BGR2GRAY)\n",
    "        sift = cv.SIFT_create()\n",
    "        kp, des = sift.detectAndCompute(gray, None)\n",
    "        \n",
    "        keypoints.extend(kp)\n",
    "    \n",
    "    keypoints = np.array([kp.pt for kp in keypoints])\n",
    "    \n",
    "    return keypoints"
   ]
  },
  {
   "cell_type": "code",
   "execution_count": null,
   "id": "4f6cfb43",
   "metadata": {},
   "outputs": [],
   "source": [
    "training_img_keypoints = create_new_keypoints()"
   ]
  },
  {
   "cell_type": "code",
   "execution_count": null,
   "id": "63b49aad",
   "metadata": {},
   "outputs": [],
   "source": [
    "def get_pixels(images):\n",
    "    combine = []\n",
    "    for img in images:\n",
    "        loaded_image = cv.imread(img)\n",
    "        combine.append(loaded_image)\n",
    "    \n",
    "    return np.array(combine)"
   ]
  },
  {
   "cell_type": "code",
   "execution_count": null,
   "id": "bde96a42",
   "metadata": {},
   "outputs": [],
   "source": [
    "training_images = get_pixels(training_img)"
   ]
  },
  {
   "cell_type": "code",
   "execution_count": null,
   "id": "fd001b9f",
   "metadata": {},
   "outputs": [],
   "source": [
    "def k_means_clustering(X):\n",
    "    kmeans = KMeans(n_clusters=100, random_state=0, init=\"random\", n_init=\"auto\").fit(X)    \n",
    "    return kmeans"
   ]
  },
  {
   "cell_type": "code",
   "execution_count": null,
   "id": "22bcebd0",
   "metadata": {},
   "outputs": [],
   "source": [
    "def plot_clusters(X):\n",
    "    plt.scatter(X[:, 0], X[:, 1], s=10, c=kmeans.labels_)\n",
    "    plt.scatter(kmeans.cluster_centers_[:, 0], kmeans.cluster_centers_[:, 1], s=20, c=\"r\")\n",
    "    plt.title(\"KMeans\")\n",
    "    plt.show()"
   ]
  },
  {
   "cell_type": "code",
   "execution_count": null,
   "id": "edc5e567",
   "metadata": {},
   "outputs": [],
   "source": [
    "kmeans = k_means_clustering(training_img_keypoints)\n",
    "plot_clusters(training_img_keypoints)"
   ]
  },
  {
   "cell_type": "code",
   "execution_count": null,
   "id": "76f2d3be",
   "metadata": {},
   "outputs": [],
   "source": [
    "def learned_training_vector_images():\n",
    "    image_vectors = kmeans.transform(training_img_keypoints)\n",
    "    return image_vectors"
   ]
  },
  {
   "cell_type": "code",
   "execution_count": null,
   "id": "b2d56c0b",
   "metadata": {},
   "outputs": [],
   "source": [
    "def training_images_vector_images():\n",
    "    image_vectors = kmeans.transform(training_images)\n",
    "    return image_vectors"
   ]
  },
  {
   "cell_type": "code",
   "execution_count": null,
   "id": "6b596566",
   "metadata": {},
   "outputs": [],
   "source": [
    "learned_training_image = learned_training_vector_images()"
   ]
  },
  {
   "cell_type": "markdown",
   "id": "58629588",
   "metadata": {},
   "source": [
    "# Note: You should not use the class labels ???"
   ]
  },
  {
   "cell_type": "code",
   "execution_count": null,
   "id": "69e849ba",
   "metadata": {},
   "outputs": [],
   "source": [
    "def dimension_reduction(features):\n",
    "    pca = PCA(n_components=2)\n",
    "    transformed_data = pca.fit_transform(features)\n",
    "    \n",
    "    for i in range(10):\n",
    "        c = np.flatnonzero(training_images_target == i)\n",
    "        plt.scatter(transformed_data[c, 0], transformed_data[c, 1])\n",
    "    plt.show()"
   ]
  },
  {
   "cell_type": "code",
   "execution_count": null,
   "id": "4a1b24f0",
   "metadata": {},
   "outputs": [],
   "source": [
    "dimension_reduction(learned_training_image)"
   ]
  },
  {
   "cell_type": "markdown",
   "id": "31d8e6bc",
   "metadata": {},
   "source": [
    " "
   ]
  },
  {
   "cell_type": "markdown",
   "id": "3f6f7d53",
   "metadata": {},
   "source": [
    "# Processing Test Images"
   ]
  },
  {
   "cell_type": "code",
   "execution_count": null,
   "id": "3e3d1b70",
   "metadata": {},
   "outputs": [],
   "source": [
    "testing_folders = get_features(\"Testing\")"
   ]
  },
  {
   "cell_type": "code",
   "execution_count": null,
   "id": "739d8fac",
   "metadata": {},
   "outputs": [],
   "source": [
    "testing_img = get_dataset(\"Testing\")"
   ]
  },
  {
   "cell_type": "code",
   "execution_count": null,
   "id": "19e27478",
   "metadata": {},
   "outputs": [],
   "source": [
    "testing_images_target = dataset_target(testing_img, testing_folders)"
   ]
  },
  {
   "cell_type": "code",
   "execution_count": null,
   "id": "21f4211a",
   "metadata": {},
   "outputs": [],
   "source": [
    "testing_images = get_pixels(testing_img)"
   ]
  },
  {
   "cell_type": "code",
   "execution_count": null,
   "id": "0b247c87",
   "metadata": {},
   "outputs": [],
   "source": [
    "testing_img_keypoints = create_new_keypoints(testing_img)"
   ]
  },
  {
   "cell_type": "code",
   "execution_count": null,
   "id": "b38cc9be",
   "metadata": {},
   "outputs": [],
   "source": [
    "def learned_testing_vector_images():\n",
    "    image_vectors = kmeans.transform(testing_img_keypoints)\n",
    "    return image_vectors"
   ]
  },
  {
   "cell_type": "code",
   "execution_count": null,
   "id": "02d44100",
   "metadata": {},
   "outputs": [],
   "source": [
    "learned_testing_image = learned_testing_vector_images()"
   ]
  },
  {
   "cell_type": "markdown",
   "id": "9efc65e8",
   "metadata": {},
   "source": [
    " "
   ]
  },
  {
   "cell_type": "markdown",
   "id": "190ffb18",
   "metadata": {},
   "source": [
    "# Traditional Machine Learning model - Support Vecotr Machine (SVM)"
   ]
  },
  {
   "cell_type": "code",
   "execution_count": 32,
   "id": "3006029a",
   "metadata": {},
   "outputs": [],
   "source": [
    "def train_svm(kernel_type=\"linear\"):\n",
    "    X_train = training_images.reshape(training_images.shape[0], -1)\n",
    "    X_test = testing_images.reshape(testing_images.shape[0], -1)\n",
    "    y_train = training_images_target\n",
    "    y_test = testing_images_target\n",
    "    \n",
    "    train_scores = []\n",
    "    test_scores = []\n",
    "    parameters = [0.01, 0.1, 1.0, 10, 100]\n",
    "    for c in parameters:\n",
    "        svc = SVC(kernel=kernel_type, C=c, random_state=42)\n",
    "        svc.fit(X_train, y_train)\n",
    "        train_scores.append(1 - svc.score(X_train, y_train))\n",
    "        test_scores.append(1 - svc.score(X_test, y_test))\n",
    "    \n",
    "        return train_scores, test_scores"
   ]
  },
  {
   "cell_type": "code",
   "execution_count": null,
   "id": "59dffdcf",
   "metadata": {},
   "outputs": [],
   "source": [
    "linear_train_score, linear_test_score = train_svm()"
   ]
  },
  {
   "cell_type": "code",
   "execution_count": null,
   "id": "4fe09f81",
   "metadata": {},
   "outputs": [],
   "source": [
    "def plot_svm_performance():\n",
    "    parameters = [0.01, 0.1, 1.0, 10, 100]\n",
    "    plt.plot(parameters, linear_train_score, label=\"Training Error\")\n",
    "    plt.plot(parameters, linear_test_score, label=\"Testing Error\")\n",
    "    plt.xscale(\"log\")\n",
    "    plt.xlabel(\"log(C)\")\n",
    "    plt.ylabel(\"Error\")\n",
    "    plt.title(\"SVM Performance\")\n",
    "    plt.legend()\n",
    "    plt.show()"
   ]
  },
  {
   "cell_type": "code",
   "execution_count": null,
   "id": "9d71879e",
   "metadata": {},
   "outputs": [],
   "source": [
    "plot_svm_performance()"
   ]
  },
  {
   "cell_type": "code",
   "execution_count": null,
   "id": "7ef86c80",
   "metadata": {},
   "outputs": [],
   "source": [
    "# def train_svm_for_different_kernels():\n",
    "#     scores = []\n",
    "#     kernel_type = \"rbf\", \"poly\", \"sigmoid\"\n",
    "#     for kernel in kernel_type:\n",
    "#         scores.append(train_svm(kernel_type))\n",
    "    \n",
    "#     scores.insert(0, linear_score)"
   ]
  },
  {
   "cell_type": "markdown",
   "id": "4b593f82",
   "metadata": {},
   "source": [
    " "
   ]
  },
  {
   "cell_type": "markdown",
   "id": "f9498655",
   "metadata": {},
   "source": [
    "# Deep Learning - Training a Simple Convolution Neural Network Mode"
   ]
  },
  {
   "cell_type": "code",
   "execution_count": null,
   "id": "06d7af77",
   "metadata": {},
   "outputs": [],
   "source": [
    "def get_original_dataset(path):\n",
    "    images = glob.glob(f\"../DataSet/{path}/Normal/*/*\")\n",
    "        \n",
    "    return images"
   ]
  },
  {
   "cell_type": "code",
   "execution_count": null,
   "id": "04e9993e",
   "metadata": {},
   "outputs": [],
   "source": [
    "original_training_image = get_dataset(\"Training\")\n",
    "original_testing_image = get_dataset(\"Testing\")\n",
    "\n",
    "original_training_img = get_pixels(original_training_image)\n",
    "original_testing_img = get_pixels(original_testing_image)"
   ]
  },
  {
   "cell_type": "code",
   "execution_count": null,
   "id": "0c93a8b2",
   "metadata": {},
   "outputs": [],
   "source": [
    "def images_classifier():\n",
    "    num_classes = 10\n",
    "    input_shape = (100, 100, 3)\n",
    "    \n",
    "    model = keras.Sequential(\n",
    "        [\n",
    "            keras.Input(shape=input_shape), \n",
    "            layers.Conv2D(8, kernel_size=(3, 3), activation=\"relu\"), \n",
    "            layers.MaxPooling2D(pool_size=(2, 2)),\n",
    "            layers.Conv2D(8, kernel_size=(3, 3), activation=\"relu\"),  \n",
    "            layers.Flatten(), \n",
    "            layers.Dense(16, activation=\"relu\"),\n",
    "            layers.Dense(16, activation=\"relu\"),\n",
    "            layers.Dense(num_classes, activation=\"softmax\")\n",
    "        ]\n",
    "    )\n",
    "    \n",
    "    model.summary()\n",
    "    \n",
    "    return model"
   ]
  },
  {
   "cell_type": "code",
   "execution_count": null,
   "id": "3e5f5c0d",
   "metadata": {},
   "outputs": [],
   "source": [
    "model = images_classifier()"
   ]
  },
  {
   "cell_type": "code",
   "execution_count": null,
   "id": "bbc2f1be",
   "metadata": {},
   "outputs": [],
   "source": [
    "def train_model():\n",
    "    batch_size = 128\n",
    "    num_epochs = 30\n",
    "    \n",
    "    X_train = np.reshape(original_training_img, (original_training_img.shape[0], 100, 100, 3))\n",
    "    X_test = np.reshape(original_testing_img, (original_testing_img.shape[0], 100, 100, 3))\n",
    "    \n",
    "    X_train = X_train.astype(\"float32\") / 255\n",
    "    X_test = X_test.astype(\"float32\") / 255\n",
    "    \n",
    "    y_train = to_categorical(training_images_target, num_classes=10)\n",
    "    y_test = to_categorical(testing_images_target, num_classes=10)\n",
    "    \n",
    "    model.compile(loss=\"categorical_crossentropy\", optimizer=\"adam\", metrics=[\"accuracy\"])\n",
    "    model_history = model.fit(X_train, y_train, batch_size=batch_size, epochs=num_epochs, validation_data=(X_test, y_test))\n",
    "    \n",
    "    return model, model_history, X_test, y_test"
   ]
  },
  {
   "cell_type": "code",
   "execution_count": null,
   "id": "5c71a913",
   "metadata": {},
   "outputs": [],
   "source": [
    "model, model_history, X_test, y_test = train_model()"
   ]
  },
  {
   "cell_type": "code",
   "execution_count": null,
   "id": "f5f01d8b",
   "metadata": {},
   "outputs": [],
   "source": [
    "def model_evaluation():\n",
    "    score = model.evaluate(X_test, y_test, verbose=0)\n",
    "    print(\"Test loss:\", score[0])\n",
    "    print(\"Test accuracy:\", score[1])"
   ]
  },
  {
   "cell_type": "code",
   "execution_count": null,
   "id": "d8b3b139",
   "metadata": {},
   "outputs": [],
   "source": [
    "model_evaluation()"
   ]
  },
  {
   "cell_type": "code",
   "execution_count": null,
   "id": "6d611715",
   "metadata": {},
   "outputs": [],
   "source": [
    "def plot_learning_curve():    \n",
    "    plt.plot(model_history.history[\"accuracy\"], label=\"Training Accuracy\")\n",
    "    plt.plot(model_history.history[\"val_accuracy\"], label=\"Validation Accuracy\")\n",
    "    plt.xlabel(\"Number of epochs\")\n",
    "    plt.ylabel(\"Training and validation accuracy\")\n",
    "    plt.title(\"Learning curve\")\n",
    "    plt.grid(True)\n",
    "    plt.legend()\n",
    "    plt.show()"
   ]
  },
  {
   "cell_type": "code",
   "execution_count": null,
   "id": "4ddc61ed",
   "metadata": {},
   "outputs": [],
   "source": [
    "plot_learning_curve()"
   ]
  },
  {
   "cell_type": "markdown",
   "id": "db1035be",
   "metadata": {},
   "source": [
    " "
   ]
  },
  {
   "cell_type": "markdown",
   "id": "3936a927",
   "metadata": {},
   "source": [
    "# Transfer Learning via Feature Extraction"
   ]
  },
  {
   "cell_type": "code",
   "execution_count": null,
   "id": "03f4e20f",
   "metadata": {},
   "outputs": [],
   "source": [
    "def preprocessing_read(images):\n",
    "    data_transforms = v2.Compose([\n",
    "        v2.Resize((224,224)),   \n",
    "        v2.ToImage(), \n",
    "        v2.ToDtype(torch.float32, scale=True),\n",
    "        v2.Normalize([0.485, 0.456, 0.406], [0.229, 0.224, 0.225])  \n",
    "    ])\n",
    "\n",
    "    image_classes = []\n",
    "    for image in images:\n",
    "        transformed_images = data_transforms(image)\n",
    "        image_classes.append(transformed_images)\n",
    "    \n",
    "    return image_classes"
   ]
  },
  {
   "cell_type": "code",
   "execution_count": null,
   "id": "f0f1ef61",
   "metadata": {
    "scrolled": true
   },
   "outputs": [],
   "source": [
    "def data_loader():    \n",
    "    training_image_classes = preprocessing_read(original_training_img)\n",
    "    training_target_classes = preprocessing_read(training_images_target)\n",
    "    validation_image_classes = preprocessing_read(original_testing_img)\n",
    "    validation_target_classes = preprocessing_read(testing_images_target)\n",
    "    \n",
    "    training_image_loader = DataLoader(training_image_classes, shuffle = False)\n",
    "    training_target_loader = DataLoader(training_target_classes, shuffle = False)\n",
    "    validation_image_loader = DataLoader(validation_image_classes, shuffle = False)\n",
    "    validation_target_loader = DataLoader(validation_target_classes, shuffle = False)\n",
    "    \n",
    "    return training_image_loader, training_target_loader, validation_image_loader, validation_target_loader"
   ]
  },
  {
   "cell_type": "code",
   "execution_count": null,
   "id": "0cfb770e",
   "metadata": {},
   "outputs": [],
   "source": [
    "def freeze_all_model_building():\n",
    "    model = models.resnet18(pretrained=True)\n",
    "\n",
    "    for param in model.parameters():\n",
    "        param.requires_grad = False    \n",
    "\n",
    "    features = model.fc.in_features\n",
    "    num_classes = 10\n",
    "\n",
    "    model.fc = nn.Linear(features, num_classes)\n",
    "    \n",
    "    return model"
   ]
  },
  {
   "cell_type": "code",
   "execution_count": null,
   "id": "149a61fc",
   "metadata": {},
   "outputs": [],
   "source": [
    "def freeze_all_model_training():\n",
    "    model = model_building()\n",
    "    training_image_loader, training_target_loader, validation_image_loader, validation_target_loader = data_loader()\n",
    "    \n",
    "    num_epochs = 10\n",
    "    accuracy = {\"training_accuracy\": [], \"validation_accuracy\": []}\n",
    "\n",
    "    criterion = nn.CrossEntropyLoss()\n",
    "    optimizer = optim.Adam(model.parameters(), lr=0.001)\n",
    "\n",
    "    for i in range(num_epochs):\n",
    "        train_acc = 0\n",
    "        val_acc = 0\n",
    "\n",
    "        model.train()\n",
    "        \n",
    "        for image, label in zip(training_image_loader, training_target_loader):\n",
    "            optimizer.zero_grad()\n",
    "            outputs = model(image.float())\n",
    "            loss = criterion(outputs, label.long())\n",
    "            loss.backward()\n",
    "            optimizer.step()\n",
    "\n",
    "            train_acc += (outputs.argmax(1) == label).type(torch.float).sum().item()\n",
    "\n",
    "        train_acc /= len(original_training_img)\n",
    "        accuracy[\"training_accuracy\"].append(train_acc)\n",
    "        \n",
    "        \n",
    "        with torch.no_grad():\n",
    "            model.eval()\n",
    "            for image, label in zip(validation_image_loader, validation_target_loader):\n",
    "                outputs = model(image.float())\n",
    "                val_acc += (outputs.argmax(1) == label).type(torch.float).sum().item()\n",
    "        \n",
    "        val_acc /= len(original_testing_img)       \n",
    "        accuracy[\"validation_accuracy\"].append(val_acc)\n",
    "        \n",
    "\n",
    "    return accuracy"
   ]
  },
  {
   "cell_type": "code",
   "execution_count": null,
   "id": "bd47f6b9",
   "metadata": {},
   "outputs": [],
   "source": [
    "freeze_all_accuracy = freeze_all_model_training()"
   ]
  },
  {
   "cell_type": "code",
   "execution_count": null,
   "id": "75c53255",
   "metadata": {},
   "outputs": [],
   "source": [
    "def plot_resnet_learning_curve(accuracy):    \n",
    "    plt.plot(accuracy[\"training_accuracy\"], label=\"Training Accuracy\")\n",
    "    plt.plot(accuracy[\"validation_accuracy\"], label=\"Validation Accuracy\")\n",
    "    plt.xlabel(\"Number of epochs\")\n",
    "    plt.ylabel(\"Training and validation accuracy\")\n",
    "    plt.title(\"Learning curve\")\n",
    "    plt.grid(True)\n",
    "    plt.legend()\n",
    "    plt.show()"
   ]
  },
  {
   "cell_type": "code",
   "execution_count": null,
   "id": "4434bd7b",
   "metadata": {},
   "outputs": [],
   "source": [
    "plot_resnet_learning_curve(freeze_all_accuracy)"
   ]
  },
  {
   "cell_type": "code",
   "execution_count": null,
   "id": "fda2dc17",
   "metadata": {},
   "outputs": [],
   "source": []
  },
  {
   "cell_type": "code",
   "execution_count": null,
   "id": "1f02f2a3",
   "metadata": {},
   "outputs": [],
   "source": []
  },
  {
   "cell_type": "code",
   "execution_count": null,
   "id": "0b4eb487",
   "metadata": {},
   "outputs": [],
   "source": [
    "def forward_hook_model_building():\n",
    "    model = models.resnet18(pretrained=True)\n",
    "    model = nn.Sequential(*(list(model.children())[:-1]))\n",
    "    \n",
    "    return model"
   ]
  },
  {
   "cell_type": "code",
   "execution_count": null,
   "id": "47218bd0",
   "metadata": {},
   "outputs": [],
   "source": [
    "def get_features(name):\n",
    "    def hook(model, input, output):\n",
    "        FEATS[name] = output.detach()\n",
    "    return hook"
   ]
  },
  {
   "cell_type": "code",
   "execution_count": null,
   "id": "fc013464",
   "metadata": {},
   "outputs": [],
   "source": [
    "model.register_forward_hook(get_features('feats'))"
   ]
  },
  {
   "cell_type": "code",
   "execution_count": null,
   "id": "e656b56a",
   "metadata": {},
   "outputs": [],
   "source": [
    "def forward_hook_model_training():\n",
    "    model = forward_hook_model_building()\n",
    "    training_image_loader, training_target_loader, validation_image_loader, validation_target_loader = data_loader()\n",
    "    \n",
    "    num_epochs = 10\n",
    "    accuracy = {\"training_accuracy\": [], \"validation_accuracy\": []}\n",
    "\n",
    "    criterion = nn.CrossEntropyLoss()\n",
    "    optimizer = optim.Adam(model.parameters(), lr=0.001)\n",
    "\n",
    "    for i in range(num_epochs):\n",
    "        train_acc = 0\n",
    "        val_acc = 0\n",
    "\n",
    "        model.train()\n",
    "\n",
    "        for image, label in zip(training_image_loader, training_target_loader):\n",
    "            optimizer.zero_grad()\n",
    "            outputs = model(image.float())\n",
    "            loss = criterion(outputs, label.long())\n",
    "            loss.backward()\n",
    "            optimizer.step()\n",
    "\n",
    "            train_acc += (outputs.argmax(1) == label).type(torch.float).sum().item()\n",
    "\n",
    "        train_acc /= len(original_training_img)\n",
    "        accuracy[\"training_accuracy\"].append(train_acc)\n",
    "\n",
    "\n",
    "        with torch.no_grad():\n",
    "            model.eval()\n",
    "            for image, label in zip(validation_image_loader, validation_target_loader):\n",
    "                outputs = model(image.float())\n",
    "                val_acc += (outputs.argmax(1) == label).type(torch.float).sum().item()\n",
    "\n",
    "        val_acc /= len(original_testing_img)       \n",
    "        accuracy[\"validation_accuracy\"].append(val_acc)\n",
    "\n",
    "\n",
    "    return accuracy"
   ]
  },
  {
   "cell_type": "code",
   "execution_count": null,
   "id": "4ae19457",
   "metadata": {},
   "outputs": [],
   "source": [
    "forward_hook_accuracy = forward_hook_model_training()"
   ]
  },
  {
   "cell_type": "code",
   "execution_count": null,
   "id": "149b3f8c",
   "metadata": {},
   "outputs": [],
   "source": [
    "plot_resnet_learning_curve(forward_hook_accuracy)"
   ]
  }
 ],
 "metadata": {
  "kernelspec": {
   "display_name": "Python 3 (ipykernel)",
   "language": "python",
   "name": "python3"
  },
  "language_info": {
   "codemirror_mode": {
    "name": "ipython",
    "version": 3
   },
   "file_extension": ".py",
   "mimetype": "text/x-python",
   "name": "python",
   "nbconvert_exporter": "python",
   "pygments_lexer": "ipython3",
   "version": "3.10.9"
  }
 },
 "nbformat": 4,
 "nbformat_minor": 5
}
